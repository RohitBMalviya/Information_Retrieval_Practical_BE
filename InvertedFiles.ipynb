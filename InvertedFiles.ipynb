{
 "cells": [
  {
   "cell_type": "code",
   "execution_count": 1,
   "id": "406b0754-a846-4e44-9fd6-a881f04f03e8",
   "metadata": {},
   "outputs": [],
   "source": [
    "class InvertedIndex:\n",
    "    def __init__(self):\n",
    "        self.index = {}\n",
    "\n",
    "    def add_document(self, doc_id, content):\n",
    "        # Tokenize the document content\n",
    "        terms = content.split()\n",
    "\n",
    "        # Create the inverted index\n",
    "        for term in terms:\n",
    "            if term in self.index:\n",
    "                self.index[term].append(doc_id)\n",
    "            else:\n",
    "                self.index[term] = [doc_id]\n",
    "\n",
    "    def search(self, query):\n",
    "        # Tokenize the query\n",
    "        query_terms = query.split()\n",
    "\n",
    "        # Retrieve documents containing query terms\n",
    "        result_docs = set()\n",
    "        for term in query_terms:\n",
    "            if term in self.index:\n",
    "                result_docs.update(self.index[term])\n",
    "\n",
    "        return result_docs"
   ]
  },
  {
   "cell_type": "code",
   "execution_count": 2,
   "id": "790db94e-edee-4ae2-a71c-06c83a5fe372",
   "metadata": {},
   "outputs": [
    {
     "name": "stdout",
     "output_type": "stream",
     "text": [
      "Search Result for 'sample': {1}\n"
     ]
    }
   ],
   "source": [
    "# Example usage\n",
    "inverted_index = InvertedIndex()\n",
    "\n",
    "# Add documents to the inverted index\n",
    "inverted_index.add_document(1, \"This is a sample document.\")\n",
    "inverted_index.add_document(2, \"Another document with different content.\")\n",
    "inverted_index.add_document(3, \"Sample document for testing.\")\n",
    "\n",
    "# Search for documents containing the query term \"sample\"\n",
    "query_result = inverted_index.search(\"sample\")\n",
    "\n",
    "# Display the search result\n",
    "print(\"Search Result for 'sample':\", query_result)"
   ]
  },
  {
   "cell_type": "code",
   "execution_count": null,
   "id": "f37562e7-737e-4d10-b1e8-1a1884dd6d71",
   "metadata": {},
   "outputs": [],
   "source": []
  }
 ],
 "metadata": {
  "kernelspec": {
   "display_name": "Python 3 (ipykernel)",
   "language": "python",
   "name": "python3"
  },
  "language_info": {
   "codemirror_mode": {
    "name": "ipython",
    "version": 3
   },
   "file_extension": ".py",
   "mimetype": "text/x-python",
   "name": "python",
   "nbconvert_exporter": "python",
   "pygments_lexer": "ipython3",
   "version": "3.12.0"
  },
  "widgets": {
   "application/vnd.jupyter.widget-state+json": {
    "state": {},
    "version_major": 2,
    "version_minor": 0
   }
  }
 },
 "nbformat": 4,
 "nbformat_minor": 5
}
