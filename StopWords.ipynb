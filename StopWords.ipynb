{
 "cells": [
  {
   "cell_type": "code",
   "execution_count": 10,
   "id": "04c94530-39c5-4466-bdad-87c07b5e1c06",
   "metadata": {},
   "outputs": [],
   "source": [
    "# pip install nltk\n",
    "# # only for downloading purpose do not include this line in exam "
   ]
  },
  {
   "cell_type": "code",
   "execution_count": 9,
   "id": "1785aa09-a9b4-4d7e-b8b9-9e6614acffdd",
   "metadata": {},
   "outputs": [],
   "source": [
    "import nltk\n",
    "from nltk.corpus import stopwords\n",
    "from nltk.stem import PorterStemmer\n",
    "from nltk.tokenize import word_tokenize"
   ]
  },
  {
   "cell_type": "code",
   "execution_count": 12,
   "id": "b032ea3d-f201-457b-9f12-13ffbeec6efb",
   "metadata": {},
   "outputs": [],
   "source": [
    "# nltk.download('punkt')\n",
    "# nltk.download('stopwords')\n",
    "# # only for downloading purpose do not include this line in exam "
   ]
  },
  {
   "cell_type": "code",
   "execution_count": 13,
   "id": "131e382a-eae2-4f9c-b942-021f6ee50721",
   "metadata": {},
   "outputs": [],
   "source": [
    "def preprocess_text(text):\n",
    "    # Tokenize the text\n",
    "    words = word_tokenize(text)\n",
    "\n",
    "    # Remove stop words\n",
    "    stop_words = set(stopwords.words('english'))\n",
    "    filtered_words = [word for word in words if word.lower() not in stop_words]\n",
    "\n",
    "    # Stemming\n",
    "    stemmer = PorterStemmer()\n",
    "    stemmed_words = [stemmer.stem(word) for word in filtered_words]\n",
    "\n",
    "    # Join the processed words back into a sentence\n",
    "    processed_text = ' '.join(stemmed_words)\n",
    "\n",
    "    return processed_text"
   ]
  },
  {
   "cell_type": "code",
   "execution_count": 14,
   "id": "a66ebc45-4d29-412f-b88f-10d9cdd197cd",
   "metadata": {},
   "outputs": [
    {
     "name": "stdout",
     "output_type": "stream",
     "text": [
      "Original Text:\n",
      "This is an example sentence for text preprocessing.\n",
      "\n",
      "Preprocessed Text:\n",
      "exampl sentenc text preprocess .\n"
     ]
    }
   ],
   "source": [
    "input_text = \"This is an example sentence for text preprocessing.\"\n",
    "preprocessed_text = preprocess_text(input_text)\n",
    "\n",
    "print(\"Original Text:\")\n",
    "print(input_text)\n",
    "\n",
    "print(\"\\nPreprocessed Text:\")\n",
    "print(preprocessed_text)"
   ]
  },
  {
   "cell_type": "code",
   "execution_count": null,
   "id": "7ad0917c-e2bb-4f00-8496-bd55668340a7",
   "metadata": {},
   "outputs": [],
   "source": []
  }
 ],
 "metadata": {
  "kernelspec": {
   "display_name": "Python 3 (ipykernel)",
   "language": "python",
   "name": "python3"
  },
  "language_info": {
   "codemirror_mode": {
    "name": "ipython",
    "version": 3
   },
   "file_extension": ".py",
   "mimetype": "text/x-python",
   "name": "python",
   "nbconvert_exporter": "python",
   "pygments_lexer": "ipython3",
   "version": "3.12.0"
  },
  "widgets": {
   "application/vnd.jupyter.widget-state+json": {
    "state": {},
    "version_major": 2,
    "version_minor": 0
   }
  }
 },
 "nbformat": 4,
 "nbformat_minor": 5
}
